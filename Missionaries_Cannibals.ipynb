{
 "cells": [
  {
   "cell_type": "code",
   "execution_count": 1,
   "metadata": {},
   "outputs": [
    {
     "name": "stdout",
     "output_type": "stream",
     "text": [
      "Missionaries and Cannibals game\n"
     ]
    }
   ],
   "source": [
    "print(\"Missionaries and Cannibals game\")"
   ]
  },
  {
   "cell_type": "code",
   "execution_count": 2,
   "metadata": {},
   "outputs": [],
   "source": [
    "boat_side = \"right\"\n",
    "missionaries_on_right = 3\n",
    "cannibals_on_right = 3\n",
    "missionaries_on_left = 0\n",
    "cannibals_on_left = 0"
   ]
  },
  {
   "cell_type": "code",
   "execution_count": 3,
   "metadata": {},
   "outputs": [
    {
     "name": "stdout",
     "output_type": "stream",
     "text": [
      "M= 0 C= 0 |------B| M= 3 C= 3\n"
     ]
    }
   ],
   "source": [
    "print(\"M=\",missionaries_on_left, \"C=\",cannibals_on_left ,\"|------B|\",\"M=\" ,missionaries_on_right,\"C=\",cannibals_on_right)"
   ]
  },
  {
   "cell_type": "code",
   "execution_count": 4,
   "metadata": {},
   "outputs": [
    {
     "name": "stdout",
     "output_type": "stream",
     "text": [
      "Missionaries are: 1\n",
      "Cannibals are: 1\n"
     ]
    }
   ],
   "source": [
    "missionaries = int(input(\"Enter the number of missionaries\"))\n",
    "cannibals = int(input(\"Enter the number of cannibals\"))\n",
    "print(\"Missionaries are:\" , missionaries)\n",
    "print(\"Cannibals are:\", cannibals)"
   ]
  },
  {
   "cell_type": "code",
   "execution_count": 5,
   "metadata": {},
   "outputs": [
    {
     "name": "stdout",
     "output_type": "stream",
     "text": [
      "Got into the boat\n"
     ]
    }
   ],
   "source": [
    "if(missionaries+cannibals) == 1 or (missionaries+cannibals) == 2:\n",
    "    print(\"Got into the boat\")\n",
    "else:\n",
    "    print(\"Invalid Move\")"
   ]
  },
  {
   "cell_type": "code",
   "execution_count": 6,
   "metadata": {},
   "outputs": [
    {
     "name": "stdout",
     "output_type": "stream",
     "text": [
      "Boat is on right side\n"
     ]
    }
   ],
   "source": [
    "if boat_side == \"right\":\n",
    "    print(\"Boat is on right side\")\n",
    "else:\n",
    "    print(\"Boat is on left side\")"
   ]
  },
  {
   "cell_type": "code",
   "execution_count": 7,
   "metadata": {},
   "outputs": [
    {
     "name": "stdout",
     "output_type": "stream",
     "text": [
      "move\n"
     ]
    }
   ],
   "source": [
    "if (missionaries_on_right< missionaries) or (cannibals_on_right<cannibals):\n",
    "    print(\"Invalid move\")\n",
    "else:\n",
    "    print(\"move\")"
   ]
  },
  {
   "cell_type": "code",
   "execution_count": 8,
   "metadata": {},
   "outputs": [
    {
     "name": "stdout",
     "output_type": "stream",
     "text": [
      "2\n",
      "2\n"
     ]
    }
   ],
   "source": [
    "missionaries_on_right = missionaries_on_right-missionaries\n",
    "cannibals_on_right = cannibals_on_right- cannibals\n",
    "print(missionaries_on_right)\n",
    "print(cannibals_on_right)"
   ]
  },
  {
   "cell_type": "code",
   "execution_count": 9,
   "metadata": {},
   "outputs": [
    {
     "name": "stdout",
     "output_type": "stream",
     "text": [
      "1\n",
      "1\n"
     ]
    }
   ],
   "source": [
    "missionaries_on_left += missionaries\n",
    "cannibals_on_left += cannibals\n",
    "print(missionaries_on_left)\n",
    "print(cannibals_on_left)"
   ]
  },
  {
   "cell_type": "code",
   "execution_count": 10,
   "metadata": {},
   "outputs": [
    {
     "name": "stdout",
     "output_type": "stream",
     "text": [
      "M= 1 C= 1 |B------| M= 2 C= 2\n"
     ]
    }
   ],
   "source": [
    "print(\"M=\",missionaries_on_left, \"C=\",cannibals_on_left ,\"|B------|\",\"M=\" ,missionaries_on_right,\"C=\",cannibals_on_right)"
   ]
  },
  {
   "cell_type": "code",
   "execution_count": 11,
   "metadata": {},
   "outputs": [
    {
     "name": "stdout",
     "output_type": "stream",
     "text": [
      "move\n"
     ]
    }
   ],
   "source": [
    "if missionaries_on_left < missionaries or cannibals_on_left < cannibals:\n",
    "    print('Invalid Move')\n",
    "else:\n",
    "    print(\"move\")"
   ]
  },
  {
   "cell_type": "code",
   "execution_count": 12,
   "metadata": {},
   "outputs": [
    {
     "name": "stdout",
     "output_type": "stream",
     "text": [
      "0\n",
      "0\n"
     ]
    }
   ],
   "source": [
    "missionaries_on_left = missionaries_on_left-missionaries\n",
    "cannibals_on_left = cannibals_on_left- cannibals\n",
    "print(missionaries_on_left)\n",
    "print(cannibals_on_left)"
   ]
  },
  {
   "cell_type": "code",
   "execution_count": 13,
   "metadata": {},
   "outputs": [
    {
     "name": "stdout",
     "output_type": "stream",
     "text": [
      "3\n",
      "3\n"
     ]
    }
   ],
   "source": [
    "missionaries_on_right+= missionaries\n",
    "cannibals_on_right += cannibals\n",
    "print(missionaries_on_right)\n",
    "print(cannibals_on_right)"
   ]
  },
  {
   "cell_type": "code",
   "execution_count": 14,
   "metadata": {},
   "outputs": [
    {
     "name": "stdout",
     "output_type": "stream",
     "text": [
      "M= 0 C= 0 |------B| M= 3 C= 3\n"
     ]
    }
   ],
   "source": [
    "print(\"M=\",missionaries_on_left, \"C=\",cannibals_on_left ,\"|------B|\",\"M=\" ,missionaries_on_right,\"C=\",cannibals_on_right)"
   ]
  },
  {
   "cell_type": "code",
   "execution_count": 15,
   "metadata": {},
   "outputs": [
    {
     "name": "stdout",
     "output_type": "stream",
     "text": [
      "💂= 0 👹= 0 |🌊🌊🌊🌊🌊🚢| 💂= 3 👹= 3\n",
      "You Quit. Game Over!\n"
     ]
    }
   ],
   "source": [
    "boat_side = 'right'\n",
    "missionaries_on_right = 3\n",
    "cannibals_on_right = 3 \n",
    "missionaries_on_left = 0\n",
    "cannibals_on_left = 0 \n",
    "\n",
    "print('\\U0001f482=',missionaries_on_left, '\\U0001f479=',cannibals_on_left, '|\\U0001f30a\\U0001f30a\\U0001f30a\\U0001f30a\\U0001f30a\\U0001f6A2|', '\\U0001f482=',missionaries_on_right,'\\U0001f479=',cannibals_on_right)\n",
    "\n",
    "while True:\n",
    "\n",
    "    missionaries = int(input('No of missionaries or enter 10 to quit : '))\n",
    "    if missionaries == 10:\n",
    "        print('You Quit. Game Over!')\n",
    "        break\n",
    "    cannibals = int(input('No of cannibals : '))\n",
    "\n",
    "    if (missionaries + cannibals) != 1 and (missionaries + cannibals) != 2:\n",
    "        print('Invalid Move')\n",
    "        continue\n",
    "\n",
    "\n",
    "    if boat_side == 'right':\n",
    "        if missionaries_on_right < missionaries or cannibals_on_right < cannibals :\n",
    "            print('Invalid Move')\n",
    "\n",
    "        missionaries_on_right = missionaries_on_right - missionaries\n",
    "        cannibals_on_right = cannibals_on_right - cannibals\n",
    "\n",
    "        missionaries_on_left += missionaries\n",
    "        cannibals_on_left += cannibals\n",
    "        \n",
    "        print('M=' ,missionaries_on_left, 'C=',cannibals_on_left, '|B-----|', 'M=',missionaries_on_right,'C=',cannibals_on_right)\n",
    "        \n",
    "        boat_side = 'left'\n",
    "\n",
    "    else:\n",
    "        if missionaries_on_left < missionaries or cannibals_on_left < cannibals:\n",
    "            print('Invalid Move')\n",
    "            \n",
    "            \n",
    "        missionaries_on_left = missionaries_on_left - missionaries\n",
    "        cannibals_on_left = cannibals_on_left - cannibals\n",
    "\n",
    "        missionaries_on_right += missionaries\n",
    "        cannibals_on_right += cannibals\n",
    "        \n",
    "        print('M=',missionaries_on_left, 'C=',cannibals_on_left, '|-----B|', 'M=',missionaries_on_right,'C=',cannibals_on_right)\n",
    "        boat_side = 'right'\n",
    "\n",
    "    if (missionaries_on_right < cannibals_on_right and missionaries_on_right > 0) or (missionaries_on_left < cannibals_on_left and missionaries_on_left > 0):\n",
    "        print('You Loose')\n",
    "        break\n",
    "\n",
    "    if(missionaries_on_left == 3 and cannibals_on_left == 3):\n",
    "        print('You win')\n",
    "        break"
   ]
  }
 ],
 "metadata": {
  "kernelspec": {
   "display_name": "Python 3",
   "language": "python",
   "name": "python3"
  },
  "language_info": {
   "codemirror_mode": {
    "name": "ipython",
    "version": 3
   },
   "file_extension": ".py",
   "mimetype": "text/x-python",
   "name": "python",
   "nbconvert_exporter": "python",
   "pygments_lexer": "ipython3",
   "version": "3.11.5"
  }
 },
 "nbformat": 4,
 "nbformat_minor": 2
}
